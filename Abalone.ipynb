{
 "cells": [
  {
   "cell_type": "markdown",
   "id": "38896e1d-3037-4bec-87fb-d7c8e0311850",
   "metadata": {},
   "source": [
    "# Abalone"
   ]
  },
  {
   "cell_type": "markdown",
   "id": "8ed70e19-f9a6-4c62-a8d4-080171f8ec2c",
   "metadata": {},
   "source": [
    "#### Interest.\n",
    "The purpose of this project is to predict the age of abalone by several measurements. The age of abalone is counted by Ring.\n",
    "#### Source\n",
    "An Abalone dataset is available in the UCI Machine Learning Repository website below:\n",
    "https://archive.ics.uci.edu/ml/datasets/Abalone"
   ]
  },
  {
   "cell_type": "markdown",
   "id": "0686e36b-eaa1-430c-84e0-d0c25b0fe818",
   "metadata": {},
   "source": [
    "## 1. Data preprocessing"
   ]
  },
  {
   "cell_type": "markdown",
   "id": "d02f728f-8162-4f5e-846c-2ff39ea8bc42",
   "metadata": {},
   "source": [
    "### 1.1 Import Dataset"
   ]
  },
  {
   "cell_type": "code",
   "execution_count": 531,
   "id": "912e4beb-18fd-410f-811d-4534e1ff46fe",
   "metadata": {},
   "outputs": [],
   "source": [
    "abalone = pd.read_csv(\"abalone.data\", sep = ',',\n",
    "                    names=[\"Sex\",\"Length\",\"Diameter\",\"Height\",\"Whole weight\",\"Shucked weight\",\"Viscera weight\",\"Shell weight\",\"Rings\"])"
   ]
  },
  {
   "cell_type": "code",
   "execution_count": 532,
   "id": "a381edd8-6dd9-495b-87af-90d3c6b2a831",
   "metadata": {},
   "outputs": [
    {
     "data": {
      "text/html": [
       "<div>\n",
       "<style scoped>\n",
       "    .dataframe tbody tr th:only-of-type {\n",
       "        vertical-align: middle;\n",
       "    }\n",
       "\n",
       "    .dataframe tbody tr th {\n",
       "        vertical-align: top;\n",
       "    }\n",
       "\n",
       "    .dataframe thead th {\n",
       "        text-align: right;\n",
       "    }\n",
       "</style>\n",
       "<table border=\"1\" class=\"dataframe\">\n",
       "  <thead>\n",
       "    <tr style=\"text-align: right;\">\n",
       "      <th></th>\n",
       "      <th>Sex</th>\n",
       "      <th>Length</th>\n",
       "      <th>Diameter</th>\n",
       "      <th>Height</th>\n",
       "      <th>Whole weight</th>\n",
       "      <th>Shucked weight</th>\n",
       "      <th>Viscera weight</th>\n",
       "      <th>Shell weight</th>\n",
       "      <th>Rings</th>\n",
       "    </tr>\n",
       "  </thead>\n",
       "  <tbody>\n",
       "    <tr>\n",
       "      <th>0</th>\n",
       "      <td>M</td>\n",
       "      <td>0.455</td>\n",
       "      <td>0.365</td>\n",
       "      <td>0.095</td>\n",
       "      <td>0.5140</td>\n",
       "      <td>0.2245</td>\n",
       "      <td>0.1010</td>\n",
       "      <td>0.150</td>\n",
       "      <td>15</td>\n",
       "    </tr>\n",
       "    <tr>\n",
       "      <th>1</th>\n",
       "      <td>M</td>\n",
       "      <td>0.350</td>\n",
       "      <td>0.265</td>\n",
       "      <td>0.090</td>\n",
       "      <td>0.2255</td>\n",
       "      <td>0.0995</td>\n",
       "      <td>0.0485</td>\n",
       "      <td>0.070</td>\n",
       "      <td>7</td>\n",
       "    </tr>\n",
       "    <tr>\n",
       "      <th>2</th>\n",
       "      <td>F</td>\n",
       "      <td>0.530</td>\n",
       "      <td>0.420</td>\n",
       "      <td>0.135</td>\n",
       "      <td>0.6770</td>\n",
       "      <td>0.2565</td>\n",
       "      <td>0.1415</td>\n",
       "      <td>0.210</td>\n",
       "      <td>9</td>\n",
       "    </tr>\n",
       "    <tr>\n",
       "      <th>3</th>\n",
       "      <td>M</td>\n",
       "      <td>0.440</td>\n",
       "      <td>0.365</td>\n",
       "      <td>0.125</td>\n",
       "      <td>0.5160</td>\n",
       "      <td>0.2155</td>\n",
       "      <td>0.1140</td>\n",
       "      <td>0.155</td>\n",
       "      <td>10</td>\n",
       "    </tr>\n",
       "    <tr>\n",
       "      <th>4</th>\n",
       "      <td>I</td>\n",
       "      <td>0.330</td>\n",
       "      <td>0.255</td>\n",
       "      <td>0.080</td>\n",
       "      <td>0.2050</td>\n",
       "      <td>0.0895</td>\n",
       "      <td>0.0395</td>\n",
       "      <td>0.055</td>\n",
       "      <td>7</td>\n",
       "    </tr>\n",
       "  </tbody>\n",
       "</table>\n",
       "</div>"
      ],
      "text/plain": [
       "  Sex  Length  Diameter  Height  Whole weight  Shucked weight  Viscera weight  \\\n",
       "0   M   0.455     0.365   0.095        0.5140          0.2245          0.1010   \n",
       "1   M   0.350     0.265   0.090        0.2255          0.0995          0.0485   \n",
       "2   F   0.530     0.420   0.135        0.6770          0.2565          0.1415   \n",
       "3   M   0.440     0.365   0.125        0.5160          0.2155          0.1140   \n",
       "4   I   0.330     0.255   0.080        0.2050          0.0895          0.0395   \n",
       "\n",
       "   Shell weight  Rings  \n",
       "0         0.150     15  \n",
       "1         0.070      7  \n",
       "2         0.210      9  \n",
       "3         0.155     10  \n",
       "4         0.055      7  "
      ]
     },
     "execution_count": 532,
     "metadata": {},
     "output_type": "execute_result"
    }
   ],
   "source": [
    "abalone.head(5)"
   ]
  },
  {
   "cell_type": "markdown",
   "id": "4bd88d2d-ec7d-4dcd-a51b-2b025393a03c",
   "metadata": {},
   "source": [
    "In the 'Sex' column, we notice that 'I' represents infant, which does not satisfy the meaning of Sex. So I try to divide the dataset as adult group and infant group, and investigate any difference in the two group."
   ]
  },
  {
   "cell_type": "code",
   "execution_count": 533,
   "id": "de78b349-8329-4e87-bb49-ea3b269e9042",
   "metadata": {},
   "outputs": [],
   "source": [
    "abalone_infant = abalone[abalone['Sex'] == 'I']\n",
    "abalone_adult = abalone[abalone['Sex'] != 'I']"
   ]
  },
  {
   "cell_type": "markdown",
   "id": "f1425adb-c33f-4356-8e8b-6ebd4f3c9bfe",
   "metadata": {},
   "source": [
    "### 1.2 Data visualization and cleaning"
   ]
  },
  {
   "cell_type": "code",
   "execution_count": 534,
   "id": "186c48f6-4a88-4957-883e-8599ca81f59e",
   "metadata": {},
   "outputs": [
    {
     "name": "stdout",
     "output_type": "stream",
     "text": [
      "<class 'pandas.core.frame.DataFrame'>\n",
      "Int64Index: 1342 entries, 4 to 4166\n",
      "Data columns (total 9 columns):\n",
      " #   Column          Non-Null Count  Dtype  \n",
      "---  ------          --------------  -----  \n",
      " 0   Sex             1342 non-null   object \n",
      " 1   Length          1342 non-null   float64\n",
      " 2   Diameter        1342 non-null   float64\n",
      " 3   Height          1342 non-null   float64\n",
      " 4   Whole weight    1342 non-null   float64\n",
      " 5   Shucked weight  1342 non-null   float64\n",
      " 6   Viscera weight  1342 non-null   float64\n",
      " 7   Shell weight    1342 non-null   float64\n",
      " 8   Rings           1342 non-null   int64  \n",
      "dtypes: float64(7), int64(1), object(1)\n",
      "memory usage: 104.8+ KB\n"
     ]
    }
   ],
   "source": [
    "abalone_infant.info()"
   ]
  },
  {
   "cell_type": "code",
   "execution_count": 535,
   "id": "bb2341c8-06ca-44d5-bf6e-728529883e61",
   "metadata": {},
   "outputs": [
    {
     "name": "stdout",
     "output_type": "stream",
     "text": [
      "<class 'pandas.core.frame.DataFrame'>\n",
      "Int64Index: 2835 entries, 0 to 4176\n",
      "Data columns (total 9 columns):\n",
      " #   Column          Non-Null Count  Dtype  \n",
      "---  ------          --------------  -----  \n",
      " 0   Sex             2835 non-null   object \n",
      " 1   Length          2835 non-null   float64\n",
      " 2   Diameter        2835 non-null   float64\n",
      " 3   Height          2835 non-null   float64\n",
      " 4   Whole weight    2835 non-null   float64\n",
      " 5   Shucked weight  2835 non-null   float64\n",
      " 6   Viscera weight  2835 non-null   float64\n",
      " 7   Shell weight    2835 non-null   float64\n",
      " 8   Rings           2835 non-null   int64  \n",
      "dtypes: float64(7), int64(1), object(1)\n",
      "memory usage: 221.5+ KB\n"
     ]
    }
   ],
   "source": [
    "abalone_adult.info()"
   ]
  },
  {
   "cell_type": "markdown",
   "id": "8d70470d-ed9d-4f68-aee9-884b49f594f5",
   "metadata": {},
   "source": [
    "From the info list, we can find 8 numeric variables to describe the abalone. Among them, four variables are associated with 'weights', the rest of them are 'Length', 'Diameter', 'Height', which I put them into 'growth', and the response group 'Rings'. Now plot some distributions to investigate which variable has the similar distribution to 'Rings', and decide whether we need to remove the unnecessary columns. "
   ]
  },
  {
   "cell_type": "code",
   "execution_count": 536,
   "id": "db8dc45b-83b1-4b54-85e0-41f92dff3715",
   "metadata": {
    "tags": []
   },
   "outputs": [
    {
     "name": "stderr",
     "output_type": "stream",
     "text": [
      "C:\\ProgramData\\Anaconda3\\lib\\site-packages\\seaborn\\distributions.py:2557: FutureWarning: `distplot` is a deprecated function and will be removed in a future version. Please adapt your code to use either `displot` (a figure-level function with similar flexibility) or `histplot` (an axes-level function for histograms).\n",
      "  warnings.warn(msg, FutureWarning)\n",
      "C:\\ProgramData\\Anaconda3\\lib\\site-packages\\seaborn\\distributions.py:2557: FutureWarning: `distplot` is a deprecated function and will be removed in a future version. Please adapt your code to use either `displot` (a figure-level function with similar flexibility) or `histplot` (an axes-level function for histograms).\n",
      "  warnings.warn(msg, FutureWarning)\n",
      "C:\\ProgramData\\Anaconda3\\lib\\site-packages\\seaborn\\distributions.py:2557: FutureWarning: `distplot` is a deprecated function and will be removed in a future version. Please adapt your code to use either `displot` (a figure-level function with similar flexibility) or `histplot` (an axes-level function for histograms).\n",
      "  warnings.warn(msg, FutureWarning)\n",
      "C:\\ProgramData\\Anaconda3\\lib\\site-packages\\seaborn\\distributions.py:2557: FutureWarning: `distplot` is a deprecated function and will be removed in a future version. Please adapt your code to use either `displot` (a figure-level function with similar flexibility) or `histplot` (an axes-level function for histograms).\n",
      "  warnings.warn(msg, FutureWarning)\n",
      "C:\\ProgramData\\Anaconda3\\lib\\site-packages\\seaborn\\distributions.py:2557: FutureWarning: `distplot` is a deprecated function and will be removed in a future version. Please adapt your code to use either `displot` (a figure-level function with similar flexibility) or `histplot` (an axes-level function for histograms).\n",
      "  warnings.warn(msg, FutureWarning)\n",
      "C:\\ProgramData\\Anaconda3\\lib\\site-packages\\seaborn\\distributions.py:2557: FutureWarning: `distplot` is a deprecated function and will be removed in a future version. Please adapt your code to use either `displot` (a figure-level function with similar flexibility) or `histplot` (an axes-level function for histograms).\n",
      "  warnings.warn(msg, FutureWarning)\n",
      "C:\\ProgramData\\Anaconda3\\lib\\site-packages\\seaborn\\distributions.py:2557: FutureWarning: `distplot` is a deprecated function and will be removed in a future version. Please adapt your code to use either `displot` (a figure-level function with similar flexibility) or `histplot` (an axes-level function for histograms).\n",
      "  warnings.warn(msg, FutureWarning)\n",
      "C:\\ProgramData\\Anaconda3\\lib\\site-packages\\seaborn\\distributions.py:2557: FutureWarning: `distplot` is a deprecated function and will be removed in a future version. Please adapt your code to use either `displot` (a figure-level function with similar flexibility) or `histplot` (an axes-level function for histograms).\n",
      "  warnings.warn(msg, FutureWarning)\n",
      "C:\\ProgramData\\Anaconda3\\lib\\site-packages\\seaborn\\distributions.py:2557: FutureWarning: `distplot` is a deprecated function and will be removed in a future version. Please adapt your code to use either `displot` (a figure-level function with similar flexibility) or `histplot` (an axes-level function for histograms).\n",
      "  warnings.warn(msg, FutureWarning)\n",
      "C:\\ProgramData\\Anaconda3\\lib\\site-packages\\seaborn\\distributions.py:2557: FutureWarning: `distplot` is a deprecated function and will be removed in a future version. Please adapt your code to use either `displot` (a figure-level function with similar flexibility) or `histplot` (an axes-level function for histograms).\n",
      "  warnings.warn(msg, FutureWarning)\n",
      "C:\\ProgramData\\Anaconda3\\lib\\site-packages\\seaborn\\distributions.py:2557: FutureWarning: `distplot` is a deprecated function and will be removed in a future version. Please adapt your code to use either `displot` (a figure-level function with similar flexibility) or `histplot` (an axes-level function for histograms).\n",
      "  warnings.warn(msg, FutureWarning)\n",
      "C:\\ProgramData\\Anaconda3\\lib\\site-packages\\seaborn\\distributions.py:2557: FutureWarning: `distplot` is a deprecated function and will be removed in a future version. Please adapt your code to use either `displot` (a figure-level function with similar flexibility) or `histplot` (an axes-level function for histograms).\n",
      "  warnings.warn(msg, FutureWarning)\n",
      "C:\\ProgramData\\Anaconda3\\lib\\site-packages\\seaborn\\distributions.py:2557: FutureWarning: `distplot` is a deprecated function and will be removed in a future version. Please adapt your code to use either `displot` (a figure-level function with similar flexibility) or `histplot` (an axes-level function for histograms).\n",
      "  warnings.warn(msg, FutureWarning)\n",
      "C:\\ProgramData\\Anaconda3\\lib\\site-packages\\seaborn\\distributions.py:2557: FutureWarning: `distplot` is a deprecated function and will be removed in a future version. Please adapt your code to use either `displot` (a figure-level function with similar flexibility) or `histplot` (an axes-level function for histograms).\n",
      "  warnings.warn(msg, FutureWarning)\n",
      "C:\\ProgramData\\Anaconda3\\lib\\site-packages\\seaborn\\distributions.py:2557: FutureWarning: `distplot` is a deprecated function and will be removed in a future version. Please adapt your code to use either `displot` (a figure-level function with similar flexibility) or `histplot` (an axes-level function for histograms).\n",
      "  warnings.warn(msg, FutureWarning)\n",
      "C:\\ProgramData\\Anaconda3\\lib\\site-packages\\seaborn\\distributions.py:2557: FutureWarning: `distplot` is a deprecated function and will be removed in a future version. Please adapt your code to use either `displot` (a figure-level function with similar flexibility) or `histplot` (an axes-level function for histograms).\n",
      "  warnings.warn(msg, FutureWarning)\n"
     ]
    },
    {
     "data": {
      "text/plain": [
       "<matplotlib.legend.Legend at 0x2066de3f850>"
      ]
     },
     "execution_count": 536,
     "metadata": {},
     "output_type": "execute_result"
    },
    {
     "data": {
      "image/png": "[encoded data removed]",
      "text/plain": [
       "<Figure size 864x720 with 6 Axes>"
      ]
     },
     "metadata": {
      "needs_background": "light"
     },
     "output_type": "display_data"
    }
   ],
   "source": [
    "import seaborn as sns\n",
    "fig = plt.figure(figsize=(12,10))\n",
    "ax1 = fig.add_subplot(231)\n",
    "ax2 = fig.add_subplot(232)\n",
    "ax3 = fig.add_subplot(233)\n",
    "\n",
    "ax4 = fig.add_subplot(234)\n",
    "ax5 = fig.add_subplot(235)\n",
    "ax6 = fig.add_subplot(236)\n",
    "\n",
    "# adults weights\n",
    "sns.distplot(abalone_adult['Whole weight'], label = 'Whole weight', ax = ax1)\n",
    "sns.distplot(abalone_adult['Shucked weight'], label = 'Shucked weight', ax = ax1)\n",
    "sns.distplot(abalone_adult['Viscera weight'], label = 'Viscera weight', ax = ax1)\n",
    "sns.distplot(abalone_adult['Shell weight'], label = 'Shell weight', ax = ax1)\n",
    "ax1.set_title('Adult Weight')\n",
    "ax1.legend()\n",
    "\n",
    "# adults growth\n",
    "sns.distplot(abalone_adult['Length'], label = 'Length', ax = ax2)\n",
    "sns.distplot(abalone_adult['Diameter'], label = 'Diameter', ax = ax2)\n",
    "sns.distplot(abalone_adult['Height'], label = 'Height', ax = ax2)\n",
    "ax2.set_title('Adult Growth')\n",
    "ax2.legend()\n",
    "\n",
    "# adults Rings\n",
    "sns.distplot(abalone_adult['Rings'], label = 'Rings', ax = ax3)\n",
    "ax3.set_title('Adult Ring')\n",
    "ax3.legend()\n",
    "\n",
    "# Infant weights\n",
    "sns.distplot(abalone_infant['Whole weight'], label = 'Whole weight', ax = ax4)\n",
    "sns.distplot(abalone_infant['Shucked weight'], label = 'Shucked weight', ax = ax4)\n",
    "sns.distplot(abalone_infant['Viscera weight'], label = 'Viscera weight', ax = ax4)\n",
    "sns.distplot(abalone_infant['Shell weight'], label = 'Shell weight', ax = ax4)\n",
    "ax4.set_title('Infant Weight')\n",
    "ax4.legend()\n",
    "\n",
    "# Infant Growth\n",
    "sns.distplot(abalone_infant['Length'], label = 'Length', ax = ax5)\n",
    "sns.distplot(abalone_infant['Diameter'], label = 'Diameter', ax = ax5)\n",
    "sns.distplot(abalone_infant['Height'], label = 'Height', ax = ax5)\n",
    "ax5.set_title('Infant Growth')\n",
    "ax5.legend()\n",
    "\n",
    "# adults Rings\n",
    "sns.distplot(abalone_infant['Rings'], label = 'Rings', ax = ax6)\n",
    "ax6.set_title('Infant Ring')\n",
    "ax6.legend()"
   ]
  },
  {
   "cell_type": "markdown",
   "id": "c6d43745-62a8-4104-b9bd-4133a6aca34c",
   "metadata": {},
   "source": [
    "#### Weights:\n",
    "Compared to the distribution of Rings, Shucked weight, Viscera weight and Shell weight are similar to it, while the Whole weight's variance is too large, which might not be correlated to the Rings.\n",
    "\n",
    "#### Growth:\n",
    "The three distributions seem to be similar to Rings.\n",
    "\n",
    "#### Conclusion:\n",
    "The Whole weight column can be removed here."
   ]
  },
  {
   "cell_type": "markdown",
   "id": "ca873722-69ad-40a1-8c1a-08c7787d22e4",
   "metadata": {},
   "source": [
    "Then let's see if different sex of adult abalone differs the distribution."
   ]
  },
  {
   "cell_type": "code",
   "execution_count": 537,
   "id": "ac229e2a-84a6-4dca-b1a4-3023a44a84fe",
   "metadata": {},
   "outputs": [
    {
     "name": "stderr",
     "output_type": "stream",
     "text": [
      "C:\\ProgramData\\Anaconda3\\lib\\site-packages\\seaborn\\distributions.py:2557: FutureWarning: `distplot` is a deprecated function and will be removed in a future version. Please adapt your code to use either `displot` (a figure-level function with similar flexibility) or `histplot` (an axes-level function for histograms).\n",
      "  warnings.warn(msg, FutureWarning)\n",
      "C:\\ProgramData\\Anaconda3\\lib\\site-packages\\seaborn\\distributions.py:2557: FutureWarning: `distplot` is a deprecated function and will be removed in a future version. Please adapt your code to use either `displot` (a figure-level function with similar flexibility) or `histplot` (an axes-level function for histograms).\n",
      "  warnings.warn(msg, FutureWarning)\n",
      "C:\\ProgramData\\Anaconda3\\lib\\site-packages\\seaborn\\distributions.py:2557: FutureWarning: `distplot` is a deprecated function and will be removed in a future version. Please adapt your code to use either `displot` (a figure-level function with similar flexibility) or `histplot` (an axes-level function for histograms).\n",
      "  warnings.warn(msg, FutureWarning)\n",
      "C:\\ProgramData\\Anaconda3\\lib\\site-packages\\seaborn\\distributions.py:2557: FutureWarning: `distplot` is a deprecated function and will be removed in a future version. Please adapt your code to use either `displot` (a figure-level function with similar flexibility) or `histplot` (an axes-level function for histograms).\n",
      "  warnings.warn(msg, FutureWarning)\n",
      "C:\\ProgramData\\Anaconda3\\lib\\site-packages\\seaborn\\distributions.py:2557: FutureWarning: `distplot` is a deprecated function and will be removed in a future version. Please adapt your code to use either `displot` (a figure-level function with similar flexibility) or `histplot` (an axes-level function for histograms).\n",
      "  warnings.warn(msg, FutureWarning)\n",
      "C:\\ProgramData\\Anaconda3\\lib\\site-packages\\seaborn\\distributions.py:2557: FutureWarning: `distplot` is a deprecated function and will be removed in a future version. Please adapt your code to use either `displot` (a figure-level function with similar flexibility) or `histplot` (an axes-level function for histograms).\n",
      "  warnings.warn(msg, FutureWarning)\n",
      "C:\\ProgramData\\Anaconda3\\lib\\site-packages\\seaborn\\distributions.py:2557: FutureWarning: `distplot` is a deprecated function and will be removed in a future version. Please adapt your code to use either `displot` (a figure-level function with similar flexibility) or `histplot` (an axes-level function for histograms).\n",
      "  warnings.warn(msg, FutureWarning)\n",
      "C:\\ProgramData\\Anaconda3\\lib\\site-packages\\seaborn\\distributions.py:2557: FutureWarning: `distplot` is a deprecated function and will be removed in a future version. Please adapt your code to use either `displot` (a figure-level function with similar flexibility) or `histplot` (an axes-level function for histograms).\n",
      "  warnings.warn(msg, FutureWarning)\n",
      "C:\\ProgramData\\Anaconda3\\lib\\site-packages\\seaborn\\distributions.py:2557: FutureWarning: `distplot` is a deprecated function and will be removed in a future version. Please adapt your code to use either `displot` (a figure-level function with similar flexibility) or `histplot` (an axes-level function for histograms).\n",
      "  warnings.warn(msg, FutureWarning)\n",
      "C:\\ProgramData\\Anaconda3\\lib\\site-packages\\seaborn\\distributions.py:2557: FutureWarning: `distplot` is a deprecated function and will be removed in a future version. Please adapt your code to use either `displot` (a figure-level function with similar flexibility) or `histplot` (an axes-level function for histograms).\n",
      "  warnings.warn(msg, FutureWarning)\n",
      "C:\\ProgramData\\Anaconda3\\lib\\site-packages\\seaborn\\distributions.py:2557: FutureWarning: `distplot` is a deprecated function and will be removed in a future version. Please adapt your code to use either `displot` (a figure-level function with similar flexibility) or `histplot` (an axes-level function for histograms).\n",
      "  warnings.warn(msg, FutureWarning)\n",
      "C:\\ProgramData\\Anaconda3\\lib\\site-packages\\seaborn\\distributions.py:2557: FutureWarning: `distplot` is a deprecated function and will be removed in a future version. Please adapt your code to use either `displot` (a figure-level function with similar flexibility) or `histplot` (an axes-level function for histograms).\n",
      "  warnings.warn(msg, FutureWarning)\n",
      "C:\\ProgramData\\Anaconda3\\lib\\site-packages\\seaborn\\distributions.py:2557: FutureWarning: `distplot` is a deprecated function and will be removed in a future version. Please adapt your code to use either `displot` (a figure-level function with similar flexibility) or `histplot` (an axes-level function for histograms).\n",
      "  warnings.warn(msg, FutureWarning)\n",
      "C:\\ProgramData\\Anaconda3\\lib\\site-packages\\seaborn\\distributions.py:2557: FutureWarning: `distplot` is a deprecated function and will be removed in a future version. Please adapt your code to use either `displot` (a figure-level function with similar flexibility) or `histplot` (an axes-level function for histograms).\n",
      "  warnings.warn(msg, FutureWarning)\n"
     ]
    },
    {
     "data": {
      "text/plain": [
       "<matplotlib.legend.Legend at 0x2066e794640>"
      ]
     },
     "execution_count": 537,
     "metadata": {},
     "output_type": "execute_result"
    },
    {
     "data": {
      "image/png": "[encoded data removed]",
      "text/plain": [
       "<Figure size 864x720 with 6 Axes>"
      ]
     },
     "metadata": {
      "needs_background": "light"
     },
     "output_type": "display_data"
    }
   ],
   "source": [
    "abalone_adult_m = abalone_adult[abalone_adult['Sex']=='M']\n",
    "abalone_adult_f = abalone_adult[abalone_adult['Sex']=='F']\n",
    "\n",
    "fig = plt.figure(figsize=(12,10))\n",
    "ax1 = fig.add_subplot(231)\n",
    "ax2 = fig.add_subplot(232)\n",
    "ax3 = fig.add_subplot(233)\n",
    "\n",
    "ax4 = fig.add_subplot(234)\n",
    "ax5 = fig.add_subplot(235)\n",
    "ax6 = fig.add_subplot(236)\n",
    "\n",
    "# female weights\n",
    "sns.distplot(abalone_adult_f['Shucked weight'], label = 'Shucked weight', ax = ax1)\n",
    "sns.distplot(abalone_adult_f['Viscera weight'], label = 'Viscera weight', ax = ax1)\n",
    "sns.distplot(abalone_adult_f['Shell weight'], label = 'Shell weight', ax = ax1)\n",
    "ax1.set_title('Female Weight')\n",
    "ax1.legend()\n",
    "\n",
    "# female growth\n",
    "sns.distplot(abalone_adult_f['Length'], label = 'Length', ax = ax2)\n",
    "sns.distplot(abalone_adult_f['Diameter'], label = 'Diameter', ax = ax2)\n",
    "sns.distplot(abalone_adult_f['Height'], label = 'Height', ax = ax2)\n",
    "ax2.set_title('Female Growth')\n",
    "ax2.legend()\n",
    "\n",
    "# female Rings\n",
    "sns.distplot(abalone_adult_f['Rings'], label = 'Rings', ax = ax3)\n",
    "ax3.set_title('Female Ring')\n",
    "ax3.legend()\n",
    "\n",
    "# male weights\n",
    "sns.distplot(abalone_adult_m['Shucked weight'], label = 'Shucked weight', ax = ax4)\n",
    "sns.distplot(abalone_adult_m['Viscera weight'], label = 'Viscera weight', ax = ax4)\n",
    "sns.distplot(abalone_adult_m['Shell weight'], label = 'Shell weight', ax = ax4)\n",
    "ax4.set_title('Male Weight')\n",
    "ax4.legend()\n",
    "\n",
    "# male Growth\n",
    "sns.distplot(abalone_adult_m['Length'], label = 'Length', ax = ax5)\n",
    "sns.distplot(abalone_adult_m['Diameter'], label = 'Diameter', ax = ax5)\n",
    "sns.distplot(abalone_adult_m['Height'], label = 'Height', ax = ax5)\n",
    "ax5.set_title('Male Growth')\n",
    "ax5.legend()\n",
    "\n",
    "# male Rings\n",
    "sns.distplot(abalone_adult_m['Rings'], label = 'Rings', ax = ax6)\n",
    "ax6.set_title('Male Ring')\n",
    "ax6.legend()"
   ]
  },
  {
   "cell_type": "markdown",
   "id": "aa6d08e1-e6f2-4c4e-bbbb-3d6442b63a8c",
   "metadata": {},
   "source": [
    "#### Conclusion\n",
    "There looks like no obvious difference on distribution between Female and male abalone. So I decide to convert 'Sex' into 'Adult', which consists of 'A' and 'I' only, representing adults and infants."
   ]
  },
  {
   "cell_type": "code",
   "execution_count": 538,
   "id": "4cf2615e-5ea3-47a5-9237-079486b41869",
   "metadata": {},
   "outputs": [],
   "source": [
    "abalone_df = abalone.replace(dict.fromkeys(['M','F'], 'A'))\n",
    "abalone_df= abalone_df.drop('Whole weight',axis=1)\n",
    "abalone_df.rename(columns = {'Sex':'Age'}, inplace = True)"
   ]
  },
  {
   "cell_type": "code",
   "execution_count": 539,
   "id": "7c87d213-a0e6-41da-b6b3-c126edc1b09c",
   "metadata": {},
   "outputs": [
    {
     "data": {
      "text/html": [
       "<div>\n",
       "<style scoped>\n",
       "    .dataframe tbody tr th:only-of-type {\n",
       "        vertical-align: middle;\n",
       "    }\n",
       "\n",
       "    .dataframe tbody tr th {\n",
       "        vertical-align: top;\n",
       "    }\n",
       "\n",
       "    .dataframe thead th {\n",
       "        text-align: right;\n",
       "    }\n",
       "</style>\n",
       "<table border=\"1\" class=\"dataframe\">\n",
       "  <thead>\n",
       "    <tr style=\"text-align: right;\">\n",
       "      <th></th>\n",
       "      <th>Age</th>\n",
       "      <th>Length</th>\n",
       "      <th>Diameter</th>\n",
       "      <th>Height</th>\n",
       "      <th>Shucked weight</th>\n",
       "      <th>Viscera weight</th>\n",
       "      <th>Shell weight</th>\n",
       "      <th>Rings</th>\n",
       "    </tr>\n",
       "  </thead>\n",
       "  <tbody>\n",
       "    <tr>\n",
       "      <th>0</th>\n",
       "      <td>A</td>\n",
       "      <td>0.455</td>\n",
       "      <td>0.365</td>\n",
       "      <td>0.095</td>\n",
       "      <td>0.2245</td>\n",
       "      <td>0.1010</td>\n",
       "      <td>0.1500</td>\n",
       "      <td>15</td>\n",
       "    </tr>\n",
       "    <tr>\n",
       "      <th>1</th>\n",
       "      <td>A</td>\n",
       "      <td>0.350</td>\n",
       "      <td>0.265</td>\n",
       "      <td>0.090</td>\n",
       "      <td>0.0995</td>\n",
       "      <td>0.0485</td>\n",
       "      <td>0.0700</td>\n",
       "      <td>7</td>\n",
       "    </tr>\n",
       "    <tr>\n",
       "      <th>2</th>\n",
       "      <td>A</td>\n",
       "      <td>0.530</td>\n",
       "      <td>0.420</td>\n",
       "      <td>0.135</td>\n",
       "      <td>0.2565</td>\n",
       "      <td>0.1415</td>\n",
       "      <td>0.2100</td>\n",
       "      <td>9</td>\n",
       "    </tr>\n",
       "    <tr>\n",
       "      <th>3</th>\n",
       "      <td>A</td>\n",
       "      <td>0.440</td>\n",
       "      <td>0.365</td>\n",
       "      <td>0.125</td>\n",
       "      <td>0.2155</td>\n",
       "      <td>0.1140</td>\n",
       "      <td>0.1550</td>\n",
       "      <td>10</td>\n",
       "    </tr>\n",
       "    <tr>\n",
       "      <th>4</th>\n",
       "      <td>I</td>\n",
       "      <td>0.330</td>\n",
       "      <td>0.255</td>\n",
       "      <td>0.080</td>\n",
       "      <td>0.0895</td>\n",
       "      <td>0.0395</td>\n",
       "      <td>0.0550</td>\n",
       "      <td>7</td>\n",
       "    </tr>\n",
       "    <tr>\n",
       "      <th>...</th>\n",
       "      <td>...</td>\n",
       "      <td>...</td>\n",
       "      <td>...</td>\n",
       "      <td>...</td>\n",
       "      <td>...</td>\n",
       "      <td>...</td>\n",
       "      <td>...</td>\n",
       "      <td>...</td>\n",
       "    </tr>\n",
       "    <tr>\n",
       "      <th>4172</th>\n",
       "      <td>A</td>\n",
       "      <td>0.565</td>\n",
       "      <td>0.450</td>\n",
       "      <td>0.165</td>\n",
       "      <td>0.3700</td>\n",
       "      <td>0.2390</td>\n",
       "      <td>0.2490</td>\n",
       "      <td>11</td>\n",
       "    </tr>\n",
       "    <tr>\n",
       "      <th>4173</th>\n",
       "      <td>A</td>\n",
       "      <td>0.590</td>\n",
       "      <td>0.440</td>\n",
       "      <td>0.135</td>\n",
       "      <td>0.4390</td>\n",
       "      <td>0.2145</td>\n",
       "      <td>0.2605</td>\n",
       "      <td>10</td>\n",
       "    </tr>\n",
       "    <tr>\n",
       "      <th>4174</th>\n",
       "      <td>A</td>\n",
       "      <td>0.600</td>\n",
       "      <td>0.475</td>\n",
       "      <td>0.205</td>\n",
       "      <td>0.5255</td>\n",
       "      <td>0.2875</td>\n",
       "      <td>0.3080</td>\n",
       "      <td>9</td>\n",
       "    </tr>\n",
       "    <tr>\n",
       "      <th>4175</th>\n",
       "      <td>A</td>\n",
       "      <td>0.625</td>\n",
       "      <td>0.485</td>\n",
       "      <td>0.150</td>\n",
       "      <td>0.5310</td>\n",
       "      <td>0.2610</td>\n",
       "      <td>0.2960</td>\n",
       "      <td>10</td>\n",
       "    </tr>\n",
       "    <tr>\n",
       "      <th>4176</th>\n",
       "      <td>A</td>\n",
       "      <td>0.710</td>\n",
       "      <td>0.555</td>\n",
       "      <td>0.195</td>\n",
       "      <td>0.9455</td>\n",
       "      <td>0.3765</td>\n",
       "      <td>0.4950</td>\n",
       "      <td>12</td>\n",
       "    </tr>\n",
       "  </tbody>\n",
       "</table>\n",
       "<p>4177 rows × 8 columns</p>\n",
       "</div>"
      ],
      "text/plain": [
       "     Age  Length  Diameter  Height  Shucked weight  Viscera weight  \\\n",
       "0      A   0.455     0.365   0.095          0.2245          0.1010   \n",
       "1      A   0.350     0.265   0.090          0.0995          0.0485   \n",
       "2      A   0.530     0.420   0.135          0.2565          0.1415   \n",
       "3      A   0.440     0.365   0.125          0.2155          0.1140   \n",
       "4      I   0.330     0.255   0.080          0.0895          0.0395   \n",
       "...   ..     ...       ...     ...             ...             ...   \n",
       "4172   A   0.565     0.450   0.165          0.3700          0.2390   \n",
       "4173   A   0.590     0.440   0.135          0.4390          0.2145   \n",
       "4174   A   0.600     0.475   0.205          0.5255          0.2875   \n",
       "4175   A   0.625     0.485   0.150          0.5310          0.2610   \n",
       "4176   A   0.710     0.555   0.195          0.9455          0.3765   \n",
       "\n",
       "      Shell weight  Rings  \n",
       "0           0.1500     15  \n",
       "1           0.0700      7  \n",
       "2           0.2100      9  \n",
       "3           0.1550     10  \n",
       "4           0.0550      7  \n",
       "...            ...    ...  \n",
       "4172        0.2490     11  \n",
       "4173        0.2605     10  \n",
       "4174        0.3080      9  \n",
       "4175        0.2960     10  \n",
       "4176        0.4950     12  \n",
       "\n",
       "[4177 rows x 8 columns]"
      ]
     },
     "execution_count": 539,
     "metadata": {},
     "output_type": "execute_result"
    }
   ],
   "source": [
    "abalone_df"
   ]
  },
  {
   "cell_type": "markdown",
   "id": "e3c70664-13dc-4e2e-b848-e33021575b2d",
   "metadata": {},
   "source": [
    "### 1.3 Split dataset"
   ]
  },
  {
   "cell_type": "code",
   "execution_count": 540,
   "id": "e0ea5cad-f8ea-42db-826b-aea1970d39b0",
   "metadata": {},
   "outputs": [],
   "source": [
    "# Predictors and Response dataset\n",
    "y = abalone_df['Rings']\n",
    "X = abalone_df.loc[:, abalone_df.columns != 'Rings']\n",
    "from sklearn.model_selection import train_test_split\n",
    "X_train, X_test, y_train, y_test = train_test_split(\n",
    "    X, y, test_size=0.15, random_state=42)"
   ]
  },
  {
   "cell_type": "code",
   "execution_count": 541,
   "id": "defde1c6-648e-4367-a25e-c1ea96b3c25a",
   "metadata": {},
   "outputs": [
    {
     "data": {
      "text/html": [
       "<div>\n",
       "<style scoped>\n",
       "    .dataframe tbody tr th:only-of-type {\n",
       "        vertical-align: middle;\n",
       "    }\n",
       "\n",
       "    .dataframe tbody tr th {\n",
       "        vertical-align: top;\n",
       "    }\n",
       "\n",
       "    .dataframe thead th {\n",
       "        text-align: right;\n",
       "    }\n",
       "</style>\n",
       "<table border=\"1\" class=\"dataframe\">\n",
       "  <thead>\n",
       "    <tr style=\"text-align: right;\">\n",
       "      <th></th>\n",
       "      <th>Age</th>\n",
       "      <th>Length</th>\n",
       "      <th>Diameter</th>\n",
       "      <th>Height</th>\n",
       "      <th>Shucked weight</th>\n",
       "      <th>Viscera weight</th>\n",
       "      <th>Shell weight</th>\n",
       "    </tr>\n",
       "  </thead>\n",
       "  <tbody>\n",
       "    <tr>\n",
       "      <th>1815</th>\n",
       "      <td>A</td>\n",
       "      <td>0.665</td>\n",
       "      <td>0.515</td>\n",
       "      <td>0.185</td>\n",
       "      <td>0.5595</td>\n",
       "      <td>0.2930</td>\n",
       "      <td>0.4375</td>\n",
       "    </tr>\n",
       "    <tr>\n",
       "      <th>1128</th>\n",
       "      <td>A</td>\n",
       "      <td>0.560</td>\n",
       "      <td>0.440</td>\n",
       "      <td>0.155</td>\n",
       "      <td>0.3360</td>\n",
       "      <td>0.1765</td>\n",
       "      <td>0.2450</td>\n",
       "    </tr>\n",
       "    <tr>\n",
       "      <th>790</th>\n",
       "      <td>A</td>\n",
       "      <td>0.570</td>\n",
       "      <td>0.465</td>\n",
       "      <td>0.160</td>\n",
       "      <td>0.3145</td>\n",
       "      <td>0.2575</td>\n",
       "      <td>0.2630</td>\n",
       "    </tr>\n",
       "    <tr>\n",
       "      <th>3154</th>\n",
       "      <td>A</td>\n",
       "      <td>0.540</td>\n",
       "      <td>0.410</td>\n",
       "      <td>0.130</td>\n",
       "      <td>0.2375</td>\n",
       "      <td>0.1065</td>\n",
       "      <td>0.1750</td>\n",
       "    </tr>\n",
       "    <tr>\n",
       "      <th>2647</th>\n",
       "      <td>I</td>\n",
       "      <td>0.500</td>\n",
       "      <td>0.390</td>\n",
       "      <td>0.125</td>\n",
       "      <td>0.2940</td>\n",
       "      <td>0.1320</td>\n",
       "      <td>0.1605</td>\n",
       "    </tr>\n",
       "    <tr>\n",
       "      <th>...</th>\n",
       "      <td>...</td>\n",
       "      <td>...</td>\n",
       "      <td>...</td>\n",
       "      <td>...</td>\n",
       "      <td>...</td>\n",
       "      <td>...</td>\n",
       "      <td>...</td>\n",
       "    </tr>\n",
       "    <tr>\n",
       "      <th>3444</th>\n",
       "      <td>A</td>\n",
       "      <td>0.490</td>\n",
       "      <td>0.400</td>\n",
       "      <td>0.115</td>\n",
       "      <td>0.2560</td>\n",
       "      <td>0.1325</td>\n",
       "      <td>0.1450</td>\n",
       "    </tr>\n",
       "    <tr>\n",
       "      <th>466</th>\n",
       "      <td>A</td>\n",
       "      <td>0.670</td>\n",
       "      <td>0.550</td>\n",
       "      <td>0.190</td>\n",
       "      <td>0.5425</td>\n",
       "      <td>0.3035</td>\n",
       "      <td>0.4000</td>\n",
       "    </tr>\n",
       "    <tr>\n",
       "      <th>3092</th>\n",
       "      <td>A</td>\n",
       "      <td>0.510</td>\n",
       "      <td>0.395</td>\n",
       "      <td>0.125</td>\n",
       "      <td>0.2440</td>\n",
       "      <td>0.1335</td>\n",
       "      <td>0.1880</td>\n",
       "    </tr>\n",
       "    <tr>\n",
       "      <th>3772</th>\n",
       "      <td>A</td>\n",
       "      <td>0.575</td>\n",
       "      <td>0.465</td>\n",
       "      <td>0.120</td>\n",
       "      <td>0.5160</td>\n",
       "      <td>0.2185</td>\n",
       "      <td>0.2350</td>\n",
       "    </tr>\n",
       "    <tr>\n",
       "      <th>860</th>\n",
       "      <td>A</td>\n",
       "      <td>0.595</td>\n",
       "      <td>0.475</td>\n",
       "      <td>0.160</td>\n",
       "      <td>0.5470</td>\n",
       "      <td>0.2310</td>\n",
       "      <td>0.2710</td>\n",
       "    </tr>\n",
       "  </tbody>\n",
       "</table>\n",
       "<p>3550 rows × 7 columns</p>\n",
       "</div>"
      ],
      "text/plain": [
       "     Age  Length  Diameter  Height  Shucked weight  Viscera weight  \\\n",
       "1815   A   0.665     0.515   0.185          0.5595          0.2930   \n",
       "1128   A   0.560     0.440   0.155          0.3360          0.1765   \n",
       "790    A   0.570     0.465   0.160          0.3145          0.2575   \n",
       "3154   A   0.540     0.410   0.130          0.2375          0.1065   \n",
       "2647   I   0.500     0.390   0.125          0.2940          0.1320   \n",
       "...   ..     ...       ...     ...             ...             ...   \n",
       "3444   A   0.490     0.400   0.115          0.2560          0.1325   \n",
       "466    A   0.670     0.550   0.190          0.5425          0.3035   \n",
       "3092   A   0.510     0.395   0.125          0.2440          0.1335   \n",
       "3772   A   0.575     0.465   0.120          0.5160          0.2185   \n",
       "860    A   0.595     0.475   0.160          0.5470          0.2310   \n",
       "\n",
       "      Shell weight  \n",
       "1815        0.4375  \n",
       "1128        0.2450  \n",
       "790         0.2630  \n",
       "3154        0.1750  \n",
       "2647        0.1605  \n",
       "...            ...  \n",
       "3444        0.1450  \n",
       "466         0.4000  \n",
       "3092        0.1880  \n",
       "3772        0.2350  \n",
       "860         0.2710  \n",
       "\n",
       "[3550 rows x 7 columns]"
      ]
     },
     "execution_count": 541,
     "metadata": {},
     "output_type": "execute_result"
    }
   ],
   "source": [
    "X_train"
   ]
  },
  {
   "cell_type": "markdown",
   "id": "887f5164-23b4-46f1-b370-f94c7485fcc5",
   "metadata": {},
   "source": [
    "### 1.4 Data Scaling"
   ]
  },
  {
   "cell_type": "code",
   "execution_count": 542,
   "id": "933d3bf1-d008-492b-85e1-851a6806d24d",
   "metadata": {},
   "outputs": [],
   "source": [
    "from sklearn.pipeline import Pipeline\n",
    "from sklearn.preprocessing import MinMaxScaler\n",
    "from sklearn.compose import ColumnTransformer\n",
    "from sklearn.preprocessing import OneHotEncoder\n",
    "\n",
    "# Numerical columns and Categorical columns split\n",
    "# Numeric features name\n",
    "X_num = list(X_train.drop('Age',axis=1))\n",
    "# Categorical feature name\n",
    "X_cat = ['Age']\n",
    "\n",
    "# Pipeline for numerical scaling columns\n",
    "CTF = ColumnTransformer(\n",
    "    [('numerical',MinMaxScaler(),X_num),\n",
    "    ('categorical',OneHotEncoder(handle_unknown='ignore'),X_cat)]\n",
    ")\n",
    "\n",
    "# Fit and transform\n",
    "X_train = CTF.fit_transform(X_train)\n",
    "X_test = CTF.transform(X_test)\n"
   ]
  },
  {
   "cell_type": "code",
   "execution_count": 543,
   "id": "22762ebf-bec7-441e-92de-6f2ec4f232d7",
   "metadata": {},
   "outputs": [
    {
     "name": "stdout",
     "output_type": "stream",
     "text": [
      "3550 627\n"
     ]
    },
    {
     "data": {
      "text/plain": [
       "array([[0.7972973 , 0.77310924, 0.16371681, ..., 0.43447932, 1.        ,\n",
       "        0.        ],\n",
       "       [0.65540541, 0.64705882, 0.13716814, ..., 0.24265072, 1.        ,\n",
       "        0.        ],\n",
       "       [0.66891892, 0.68907563, 0.14159292, ..., 0.26058794, 1.        ,\n",
       "        0.        ],\n",
       "       ...,\n",
       "       [0.58783784, 0.57142857, 0.11061947, ..., 0.18584953, 1.        ,\n",
       "        0.        ],\n",
       "       [0.67567568, 0.68907563, 0.10619469, ..., 0.2326856 , 1.        ,\n",
       "        0.        ],\n",
       "       [0.7027027 , 0.70588235, 0.14159292, ..., 0.26856004, 1.        ,\n",
       "        0.        ]])"
      ]
     },
     "execution_count": 543,
     "metadata": {},
     "output_type": "execute_result"
    }
   ],
   "source": [
    "print(len(X_train),len(X_test))\n",
    "X_train"
   ]
  },
  {
   "cell_type": "markdown",
   "id": "984f638c-bcfb-429c-86c9-6c7853898434",
   "metadata": {},
   "source": [
    "The first 6 columns of array represent 6 numerical features, the last 2 columns [1,0] and [0,1] represents 'A' (Adults) and 'I' (Infants), respectively."
   ]
  },
  {
   "cell_type": "markdown",
   "id": "ea8b3e39-c566-44f3-8f0b-ae2abc7f5c4f",
   "metadata": {},
   "source": [
    "## 2. Model Creating"
   ]
  },
  {
   "cell_type": "markdown",
   "id": "9c528dee-b412-416d-8912-472bf40e990c",
   "metadata": {},
   "source": [
    "### 2.1 Random Forest Regressor"
   ]
  },
  {
   "cell_type": "code",
   "execution_count": 563,
   "id": "9a9fdfb1-8da4-4035-86af-95b7699053f3",
   "metadata": {},
   "outputs": [
    {
     "name": "stdout",
     "output_type": "stream",
     "text": [
      "Fitting 3 folds for each of 50 candidates, totalling 150 fits\n"
     ]
    },
    {
     "data": {
      "text/plain": [
       "RandomizedSearchCV(cv=3,\n",
       "                   estimator=RandomForestRegressor(max_depth=2,\n",
       "                                                   n_estimators=500,\n",
       "                                                   random_state=0),\n",
       "                   n_iter=50, n_jobs=-1,\n",
       "                   param_distributions={'bootstrap': [True, False],\n",
       "                                        'max_depth': [None, 5, 8],\n",
       "                                        'max_features': ['auto', 'sqrt',\n",
       "                                                         'log2'],\n",
       "                                        'min_samples_leaf': [1, 2, 3]},\n",
       "                   random_state=0, verbose=2)"
      ]
     },
     "execution_count": 563,
     "metadata": {},
     "output_type": "execute_result"
    }
   ],
   "source": [
    "from sklearn.ensemble import RandomForestRegressor\n",
    "from sklearn.model_selection import RandomizedSearchCV\n",
    "# HyperParameters setting\n",
    "Param_Grid = {\n",
    "        \"max_depth\":[None,5,8], \n",
    "        \"min_samples_leaf\":[1,2,3], \n",
    "        'max_features':[\"auto\", \"sqrt\", \"log2\"],\n",
    "        \"bootstrap\": [True, False]\n",
    "            }\n",
    "Rf = RandomForestRegressor(max_depth=2, random_state=0, n_estimators=500)\n",
    "Rf_random = RandomizedSearchCV(estimator = Rf, param_distributions = Param_Grid, n_iter = 50, cv = 3, verbose=2, random_state=0, n_jobs = -1)\n",
    "\n",
    "Rf_random.fit(X_train, y_train)"
   ]
  },
  {
   "cell_type": "code",
   "execution_count": 564,
   "id": "68015250-4da9-46a1-935e-d3f56b64f3c3",
   "metadata": {},
   "outputs": [
    {
     "data": {
      "text/plain": [
       "{'min_samples_leaf': 3,\n",
       " 'max_features': 'log2',\n",
       " 'max_depth': None,\n",
       " 'bootstrap': True}"
      ]
     },
     "execution_count": 564,
     "metadata": {},
     "output_type": "execute_result"
    }
   ],
   "source": [
    "Rf_random.best_params_"
   ]
  },
  {
   "cell_type": "markdown",
   "id": "dcdf9276-f51d-4807-8fe1-1f14de8df467",
   "metadata": {},
   "source": [
    "### 2.2 Evaluation"
   ]
  },
  {
   "cell_type": "code",
   "execution_count": 565,
   "id": "74414fcb-92bd-494a-936e-43bd5386109a",
   "metadata": {},
   "outputs": [
    {
     "data": {
      "text/plain": [
       "0.24401913875598086"
      ]
     },
     "execution_count": 565,
     "metadata": {},
     "output_type": "execute_result"
    }
   ],
   "source": [
    "from sklearn.metrics import accuracy_score\n",
    "\n",
    "prediction = Rf_random.predict(X_test)\n",
    "# Round predicted results to nearest integer (1.5 and 2.5 round to 2.0, -0.5 and 0.5 round to 0.0)\n",
    "prediction = np.rint(prediction)\n",
    "# Test error\n",
    "accuracy = accuracy_score(y_test,prediction)\n",
    "accuracy"
   ]
  },
  {
   "cell_type": "markdown",
   "id": "b0ce1c83-78e5-437c-8a16-3139043874ab",
   "metadata": {},
   "source": [
    "#### RMSE estimator"
   ]
  },
  {
   "cell_type": "code",
   "execution_count": 566,
   "id": "f97bf290-6129-404d-8aba-fda20adc6b5a",
   "metadata": {},
   "outputs": [
    {
     "name": "stdout",
     "output_type": "stream",
     "text": [
      "2.195035721390843\n"
     ]
    }
   ],
   "source": [
    "from sklearn.metrics import mean_squared_error\n",
    "mse = mean_squared_error(y_test, prediction)\n",
    "rmse = mse**.5\n",
    "print(rmse)"
   ]
  },
  {
   "cell_type": "markdown",
   "id": "c3468c12-b982-4e85-9935-9aa3f4857ef9",
   "metadata": {},
   "source": [
    "After rounding to integer, the RMSE of predictions on test set is 2.1950."
   ]
  },
  {
   "cell_type": "markdown",
   "id": "def86db6-c380-4aa5-909f-56396c18a9b5",
   "metadata": {},
   "source": [
    "### 2.3  Model improvement using feature importances"
   ]
  },
  {
   "cell_type": "markdown",
   "id": "d9a36f0f-c0a2-4242-8519-7d620d116d89",
   "metadata": {},
   "source": [
    "Now we use the best parameters so far to build the regressor again."
   ]
  },
  {
   "cell_type": "code",
   "execution_count": 567,
   "id": "6f17d9b8-a276-434c-9028-a59b7bcbcfad",
   "metadata": {},
   "outputs": [
    {
     "data": {
      "text/plain": [
       "RandomForestRegressor(max_features='log2', min_samples_leaf=3, n_estimators=500,\n",
       "                      random_state=0)"
      ]
     },
     "execution_count": 567,
     "metadata": {},
     "output_type": "execute_result"
    }
   ],
   "source": [
    "Rf = RandomForestRegressor(min_samples_leaf= 3,\n",
    "                             max_features= 'log2',\n",
    "                             max_depth= None,\n",
    "                             bootstrap= True,\n",
    "                             n_estimators= 500,\n",
    "                           random_state=0\n",
    "                             )\n",
    "Rf.fit(X_train, y_train)"
   ]
  },
  {
   "cell_type": "code",
   "execution_count": 568,
   "id": "1fe7fa45-a201-49be-8c53-2a2a267f5430",
   "metadata": {},
   "outputs": [
    {
     "name": "stdout",
     "output_type": "stream",
     "text": [
      "Elapsed time to compute the importances: 0.080 seconds\n"
     ]
    }
   ],
   "source": [
    "import time\n",
    "\n",
    "start_time = time.time()\n",
    "importances = Rf.feature_importances_\n",
    "std = np.std([tree.feature_importances_ for tree in Rf.estimators_], axis=0)\n",
    "elapsed_time = time.time() - start_time\n",
    "\n",
    "print(f\"Elapsed time to compute the importances: {elapsed_time:.3f} seconds\")"
   ]
  },
  {
   "cell_type": "markdown",
   "id": "be962d7a-b5df-4b1e-8529-203b0cfc7fdd",
   "metadata": {},
   "source": [
    "Plot the feature importance distribution."
   ]
  },
  {
   "cell_type": "code",
   "execution_count": 569,
   "id": "fdf1cf88-999e-4cea-992d-68b0567bc009",
   "metadata": {},
   "outputs": [
    {
     "data": {
      "image/png": "[encoded data removed]",
      "text/plain": [
       "<Figure size 432x288 with 1 Axes>"
      ]
     },
     "metadata": {
      "needs_background": "light"
     },
     "output_type": "display_data"
    }
   ],
   "source": [
    "feature_names = feature_names = [f\"feature {i}\" for i in range(X_train.shape[1])]\n",
    "forest_importances = pd.Series(importances, index=feature_names)\n",
    "\n",
    "fig, ax = plt.subplots()\n",
    "forest_importances.plot.bar(yerr=std, ax=ax)\n",
    "ax.set_title(\"Feature importances using MDI\")\n",
    "ax.set_ylabel(\"Mean decrease in impurity\")\n",
    "fig.tight_layout()"
   ]
  },
  {
   "cell_type": "markdown",
   "id": "e72e8b00-9003-4035-b4b7-18636c2f3a90",
   "metadata": {},
   "source": [
    "#### Remove feature with importance lower than 5%"
   ]
  },
  {
   "cell_type": "code",
   "execution_count": 570,
   "id": "1d40f93e-742a-458e-9e8f-9ad712ac222b",
   "metadata": {},
   "outputs": [
    {
     "data": {
      "text/plain": [
       "feature 0    0.082448\n",
       "feature 1    0.119335\n",
       "feature 2    0.171108\n",
       "feature 3    0.138518\n",
       "feature 4    0.119681\n",
       "feature 5    0.342412\n",
       "feature 6    0.013202\n",
       "feature 7    0.013296\n",
       "dtype: float64"
      ]
     },
     "execution_count": 570,
     "metadata": {},
     "output_type": "execute_result"
    }
   ],
   "source": [
    "forest_importances"
   ]
  },
  {
   "cell_type": "markdown",
   "id": "6642cf84-f44e-4540-8053-5d1473eacde2",
   "metadata": {},
   "source": [
    "As we can see from the results, feature 6 and 7 are lower than 0.05, which correspond to feature 'Age' ('Sex'). Remove the categorical feature and calculate the total feature importance."
   ]
  },
  {
   "cell_type": "code",
   "execution_count": 571,
   "id": "cb34cfad-3f34-40ed-a4d9-bb03bd39f410",
   "metadata": {},
   "outputs": [
    {
     "name": "stdout",
     "output_type": "stream",
     "text": [
      "the total feature importance is:  0.9735013873551921\n"
     ]
    }
   ],
   "source": [
    "sum = 0\n",
    "# The features except the last two categorical columns\n",
    "for i in forest_importances[:6]:\n",
    "    sum+=i\n",
    "print(\"the total feature importance is: \", sum)"
   ]
  },
  {
   "cell_type": "code",
   "execution_count": 572,
   "id": "b9d20966-f387-487c-b2d4-54c85afc6c1c",
   "metadata": {},
   "outputs": [
    {
     "name": "stdout",
     "output_type": "stream",
     "text": [
      "[[0.7972973  0.77310924 0.16371681 ... 0.43447932 1.         0.        ]\n",
      " [0.65540541 0.64705882 0.13716814 ... 0.24265072 1.         0.        ]\n",
      " [0.66891892 0.68907563 0.14159292 ... 0.26058794 1.         0.        ]\n",
      " ...\n",
      " [0.58783784 0.57142857 0.11061947 ... 0.18584953 1.         0.        ]\n",
      " [0.67567568 0.68907563 0.10619469 ... 0.2326856  1.         0.        ]\n",
      " [0.7027027  0.70588235 0.14159292 ... 0.26856004 1.         0.        ]]\n"
     ]
    }
   ],
   "source": [
    "print(X_train)"
   ]
  },
  {
   "cell_type": "markdown",
   "id": "a43c734b-6da3-4080-b760-acfeccfb64e6",
   "metadata": {},
   "source": [
    "#### Train the model with remaining features."
   ]
  },
  {
   "cell_type": "code",
   "execution_count": 573,
   "id": "8a59eabd-9e01-40f2-8b79-73a311d99a8a",
   "metadata": {},
   "outputs": [
    {
     "data": {
      "text/plain": [
       "RandomForestRegressor(max_features='log2', min_samples_leaf=3, n_estimators=500,\n",
       "                      random_state=0)"
      ]
     },
     "execution_count": 573,
     "metadata": {},
     "output_type": "execute_result"
    }
   ],
   "source": [
    "X_train_1 = np.delete(X_train,6,1)\n",
    "X_train_1 = np.delete(X_train_1,6,1)\n",
    "X_test_1 = np.delete(X_test,6,1)\n",
    "X_test_1 = np.delete(X_test_1,6,1)\n",
    "Rf.fit(X_train_1, y_train)"
   ]
  },
  {
   "cell_type": "code",
   "execution_count": 574,
   "id": "40c27a73-2406-4c08-b387-99db2730aea1",
   "metadata": {},
   "outputs": [
    {
     "name": "stdout",
     "output_type": "stream",
     "text": [
      "Elapsed time to compute the importances: 0.056 seconds\n",
      "RMSE is:  2.233570174782478\n"
     ]
    },
    {
     "data": {
      "text/plain": [
       "0.23763955342902712"
      ]
     },
     "execution_count": 574,
     "metadata": {},
     "output_type": "execute_result"
    },
    {
     "data": {
      "image/png": "[encoded data removed]",
      "text/plain": [
       "<Figure size 432x288 with 1 Axes>"
      ]
     },
     "metadata": {
      "needs_background": "light"
     },
     "output_type": "display_data"
    }
   ],
   "source": [
    "start_time = time.time()\n",
    "importances = Rf.feature_importances_\n",
    "std = np.std([tree.feature_importances_ for tree in Rf.estimators_], axis=0)\n",
    "elapsed_time = time.time() - start_time\n",
    "\n",
    "print(f\"Elapsed time to compute the importances: {elapsed_time:.3f} seconds\")\n",
    "feature_names = feature_names = [f\"feature {i}\" for i in range(X_train_1.shape[1])]\n",
    "forest_importances = pd.Series(importances, index=feature_names)\n",
    "\n",
    "fig, ax = plt.subplots()\n",
    "forest_importances.plot.bar(yerr=std, ax=ax)\n",
    "ax.set_title(\"Feature importances using MDI\")\n",
    "ax.set_ylabel(\"Mean decrease in impurity\")\n",
    "fig.tight_layout()\n",
    "\n",
    "# Calculate the RMSE\n",
    "prediction = Rf.predict(X_test_1)\n",
    "prediction = np.rint(prediction)\n",
    "rmse = (mean_squared_error(y_test, prediction))**.5\n",
    "print(\"RMSE is: \",rmse)\n",
    "\n",
    "accuracy_1 = accuracy_score(y_test,prediction)\n",
    "accuracy_1"
   ]
  },
  {
   "cell_type": "markdown",
   "id": "1625aa3d-16f9-476f-b1e3-0e2f0edecd70",
   "metadata": {},
   "source": [
    "The RMSE increases from 2.1950 to 2.2336, which performs worse."
   ]
  },
  {
   "cell_type": "markdown",
   "id": "0ba3d0de-1956-4add-b2cb-0d1970445201",
   "metadata": {},
   "source": [
    "### 3 Performance Evaluation"
   ]
  },
  {
   "cell_type": "markdown",
   "id": "a23490a8-9e53-4c7c-a1a3-ba8c400f94cf",
   "metadata": {},
   "source": [
    "#### Prediction error"
   ]
  },
  {
   "cell_type": "markdown",
   "id": "3d7ac75a-d98e-4f4d-8cc2-6afcc915f2da",
   "metadata": {},
   "source": [
    "- The test error (accuracy) of first and second Random Forest regressor is 0.24402 and 0.2376, respectively, with slightly different. It indicates that of all the prediction, only 24% are the same as the true Ring value.\n",
    "- In the second model, the RMSE = 2.234, which indicates for each ring value, the prediction has 2.233 average error from the accurate Ring value."
   ]
  },
  {
   "cell_type": "code",
   "execution_count": 575,
   "id": "e77d780a-1963-44f6-a29b-09906e7a1d51",
   "metadata": {},
   "outputs": [
    {
     "data": {
      "text/plain": [
       "Text(0, 0.5, 'Frequency')"
      ]
     },
     "execution_count": 575,
     "metadata": {},
     "output_type": "execute_result"
    },
    {
     "data": {
      "image/png": "[encoded data removed]",
      "text/plain": [
       "<Figure size 432x288 with 1 Axes>"
      ]
     },
     "metadata": {
      "needs_background": "light"
     },
     "output_type": "display_data"
    }
   ],
   "source": [
    "# Histogram of prediciton and True label\n",
    "plt.hist(prediction,bins = 80)\n",
    "plt.hist(y_test,bins = 80)\n",
    "plt.title('Histogram of prediction errors')\n",
    "plt.xlabel('prediction error')\n",
    "plt.ylabel('Frequency')"
   ]
  },
  {
   "cell_type": "markdown",
   "id": "b951946c-5db0-43ad-acaf-573aebd93c76",
   "metadata": {},
   "source": [
    "From the distribution, Ring value range from 7.5 to 15 tend to have average errors."
   ]
  },
  {
   "cell_type": "code",
   "execution_count": 576,
   "id": "354bff4a-8be9-4125-b822-9130931e1cce",
   "metadata": {},
   "outputs": [
    {
     "data": {
      "image/png": "[encoded data removed]",
      "text/plain": [
       "<Figure size 432x288 with 1 Axes>"
      ]
     },
     "metadata": {
      "needs_background": "light"
     },
     "output_type": "display_data"
    }
   ],
   "source": [
    "dy = 0.8\n",
    "\n",
    "plt.errorbar(y_test, prediction, yerr=dy, fmt='o', color='black',\n",
    "             ecolor='lightgray', elinewidth=3, capsize=0);"
   ]
  },
  {
   "cell_type": "markdown",
   "id": "3a2e66af-9fde-4144-964e-48366990c8c1",
   "metadata": {},
   "source": [
    "From the error bar plot, x_axis shows the truth Ring values, y_axis shows the predicted value. It's more obvious to see the average errors happen in the range of 7.5 to 17.5."
   ]
  },
  {
   "cell_type": "markdown",
   "id": "f7ad2745-6bc6-4456-bd11-16fa12cd27b3",
   "metadata": {},
   "source": [
    "### 4. SVM Regressor"
   ]
  },
  {
   "cell_type": "code",
   "execution_count": 577,
   "id": "eb089107-59ba-4151-807d-212016338614",
   "metadata": {
    "tags": []
   },
   "outputs": [],
   "source": [
    "from sklearn.ensemble import BaggingRegressor\n",
    "from sklearn.svm import SVR\n",
    "# Train with full dimensional training set\n",
    "Regr = BaggingRegressor(base_estimator=SVR(C=1.0, epsilon=0.2, kernel= 'linear'),\n",
    "                             bootstrap= True,\n",
    "                             max_samples=3,\n",
    "                             n_estimators= 500).fit(X_train, y_train)\n"
   ]
  },
  {
   "cell_type": "code",
   "execution_count": 578,
   "id": "66928891-00a9-440c-8b78-c62905df04e6",
   "metadata": {
    "tags": []
   },
   "outputs": [
    {
     "name": "stdout",
     "output_type": "stream",
     "text": [
      "SVM's RMSE is:  3.12626369983294\n",
      "SVM's accuracy is:  0.17543859649122806\n"
     ]
    }
   ],
   "source": [
    "# Calculate the RMSE\n",
    "prediction_SVM = Regr.predict(X_test)\n",
    "prediction_SVM = np.rint(prediction_SVM)\n",
    "rmse = (mean_squared_error(y_test, prediction_SVM))**.5\n",
    "print(\"SVM's RMSE is: \",rmse)\n",
    "accuracy_SVM = accuracy_score(y_test, prediction_SVM)\n",
    "print(\"SVM's accuracy is: \", accuracy_SVM)"
   ]
  },
  {
   "cell_type": "markdown",
   "id": "7590e607-f409-48a4-94cb-507a095af4d5",
   "metadata": {},
   "source": [
    "#### Plots of predicted values and truth value"
   ]
  },
  {
   "cell_type": "code",
   "execution_count": 579,
   "id": "f716673e-04b0-4c2d-9fe6-5b2f4249a2b2",
   "metadata": {},
   "outputs": [
    {
     "data": {
      "text/plain": [
       "Text(0, 0.5, 'Frequency')"
      ]
     },
     "execution_count": 579,
     "metadata": {},
     "output_type": "execute_result"
    },
    {
     "data": {
      "image/png": "[encoded data removed]",
      "text/plain": [
       "<Figure size 432x288 with 1 Axes>"
      ]
     },
     "metadata": {
      "needs_background": "light"
     },
     "output_type": "display_data"
    }
   ],
   "source": [
    "# Histogram of prediciton and True label\n",
    "\n",
    "plt.hist(prediction_SVM,bins = 10)\n",
    "plt.hist(y_test,bins = 10)\n",
    "plt.title('Histogram of prediction errors')\n",
    "plt.xlabel('prediction error')\n",
    "plt.ylabel('Frequency')"
   ]
  },
  {
   "cell_type": "markdown",
   "id": "c8286ff0-724c-46ee-964f-dc6dfb9f7fec",
   "metadata": {},
   "source": [
    "As we can see from the plot, the prediction of SVM centralize on [9,10]."
   ]
  },
  {
   "cell_type": "markdown",
   "id": "0961f900-d7a5-441c-aa7f-5b1b7e46ce95",
   "metadata": {},
   "source": [
    "#### Error bar plot"
   ]
  },
  {
   "cell_type": "code",
   "execution_count": 580,
   "id": "739164f9-f1ee-48fb-bc98-162b18b4cd6a",
   "metadata": {},
   "outputs": [
    {
     "data": {
      "image/png": "[encoded data removed]",
      "text/plain": [
       "<Figure size 432x288 with 1 Axes>"
      ]
     },
     "metadata": {
      "needs_background": "light"
     },
     "output_type": "display_data"
    }
   ],
   "source": [
    "# Error bar plot\n",
    "dy = 0.8\n",
    "plt.errorbar(y_test, prediction_SVM, yerr=dy, fmt='o', color='black',\n",
    "             ecolor='lightgray', elinewidth=3, capsize=0);"
   ]
  },
  {
   "cell_type": "markdown",
   "id": "835243b7-9717-44bb-87d6-54f4c2dff051",
   "metadata": {},
   "source": [
    "From the error bar plot we can obviously see the predicted Ring value are mostly 9 and 10."
   ]
  },
  {
   "cell_type": "markdown",
   "id": "dc5a183d-015f-4dbb-9447-738f0dece696",
   "metadata": {},
   "source": [
    "#### Compare Random Forest Regressor and Bagging SVM regressor"
   ]
  },
  {
   "cell_type": "markdown",
   "id": "02d735a4-fe2f-47d1-b6a2-b7b09ac86de9",
   "metadata": {},
   "source": [
    "Compared to Random Forest regressors, the RMSE and prediction accuracy (test error) performance become worse (accuracy: 0.2440 to 0.175, RMSE: 2.195 to 3.126)."
   ]
  }
 ],
 "metadata": {
  "kernelspec": {
   "display_name": "Python 3",
   "language": "python",
   "name": "python3"
  },
  "language_info": {
   "codemirror_mode": {
    "name": "ipython",
    "version": 3
   },
   "file_extension": ".py",
   "mimetype": "text/x-python",
   "name": "python",
   "nbconvert_exporter": "python",
   "pygments_lexer": "ipython3",
   "version": "3.8.8"
  }
 },
 "nbformat": 4,
 "nbformat_minor": 5
}
